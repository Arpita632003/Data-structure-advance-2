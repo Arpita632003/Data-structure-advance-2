{
 "cells": [
  {
   "cell_type": "code",
   "execution_count": null,
   "id": "1c2a701a-a1ca-49aa-ac75-86868d7ba2db",
   "metadata": {},
   "outputs": [],
   "source": [
    "#Write a code to reverse a string\n",
    "s = \"Pwskills\"\n",
    "rev = s[::-1]\n",
    "print(rev)"
   ]
  },
  {
   "cell_type": "code",
   "execution_count": null,
   "id": "c8b6d9dd-320a-4763-be30-31f0df4ab2e8",
   "metadata": {},
   "outputs": [],
   "source": [
    "#Write a code to count the number of vowels in a string\n",
    "string = \"Geeks for Geeks\"\n",
    "vowels = \"AaEeIiOoUu\"\n",
    "Check_Vow(string, vowels);\n"
   ]
  },
  {
   "cell_type": "code",
   "execution_count": null,
   "id": "bf9b61ce-b166-49e7-bc24-0996f0b8179f",
   "metadata": {},
   "outputs": [],
   "source": [
    "# Write a code to check if a given string is a palindrome or not\n",
    "my_str = 'aIbohPhoBiA'\n",
    "my_str = my_str.casefold()\n",
    "# reverse the string\n",
    "rev_str = reversed(my_str)\n"
   ]
  },
  {
   "cell_type": "code",
   "execution_count": null,
   "id": "ef018011-9911-45e4-abb8-a8f03fe41930",
   "metadata": {},
   "outputs": [],
   "source": [
    "# check if the string is equal to its reverse\n",
    "if list(my_str) == list(rev_str):\n",
    "   print(\"The string is a palindrome.\")\n",
    "else:\n",
    "   print(\"The string is not a palindrome.\")\n"
   ]
  },
  {
   "cell_type": "code",
   "execution_count": null,
   "id": "277cbdfc-66bd-4894-b7b9-4273824cd895",
   "metadata": {},
   "outputs": [],
   "source": [
    "Write a code to check if two given strings are anagrams of each other\n",
    "str1 = \"Race\"\n",
    "str2 = \"Care\"\n",
    "\n",
    "# convert both the strings into lowercase\n",
    "str1 = str1.lower()\n",
    "str2 = str2.lower()\n",
    "\n",
    "# check if length is same\n",
    "if(len(str1) == len(str2)):\n",
    "\n",
    "    # sort the strings\n",
    "    sorted_str1 = sorted(str1)\n",
    "    sorted_str2 = sorted(str2)\n",
    "\n",
    "    # if sorted char arrays are same\n",
    "    if(sorted_str1 == sorted_str2):\n",
    "        print(str1 + \" and \" + str2 + \" are anagram.\")\n",
    "    else:\n",
    "        print(str1 + \" and \" + str2 + \" are not anagram.\")\n",
    "        else:\n",
    "    print(str1 + \" and \" + str2 + \" are not anagram.\")\n"
   ]
  },
  {
   "cell_type": "code",
   "execution_count": null,
   "id": "e06e4d65-b501-4f2c-9bcc-00b9ed2ad822",
   "metadata": {},
   "outputs": [],
   "source": [
    "# Write a code to find all occurrences of a given substring within another string\n",
    "def find_all_occurrences(main_string, substring):\n",
    "    start = 0\n",
    "    occurrences = []\n",
    "    \n",
    "    while True:\n",
    "        start = main_string.find(substring, start)\n",
    "        if start == -1:  # No more occurrences found\n",
    "            break\n",
    "        occurrences.append(start)\n",
    "        start += 1  # Move to the next character after the found substring\n",
    "    \n",
    "    return occurrences\n"
   ]
  },
  {
   "cell_type": "code",
   "execution_count": null,
   "id": "020971e3-7f85-4550-8017-1bc3f7ce5e05",
   "metadata": {},
   "outputs": [],
   "source": [
    "# Write a code to perform basic string compression using the counts of repeated characters\n",
    "def compress_string(s):\n",
    "    if not s:\n",
    "        return \"\"\n",
    "    \n",
    "    compressed = []\n",
    "    count = 1\n",
    "    \n",
    "    for i in range(1, len(s)):\n",
    "        if s[i] == s[i - 1]:\n",
    "            count += 1\n",
    "        else:\n",
    "            compressed.append(s[i - 1] + str(count))\n",
    "            count = 1\n",
    "    \n",
    "    # Add the last character and its count\n",
    "    compressed.append(s[-1] + str(count))\n",
    "    \n",
    "    compressed_string = ''.join(compressed)"
   ]
  },
  {
   "cell_type": "code",
   "execution_count": null,
   "id": "eb533f91-9b4e-42cc-a2b6-9f38c618fb7a",
   "metadata": {},
   "outputs": [],
   "source": [
    "#Write a code to determine if a string has all unique characters\n",
    "def has_unique_characters(s):\n",
    "    seen = set()\n",
    "    for char in s:\n",
    "        if char in seen:\n",
    "            return False\n",
    "        seen.add(char)\n",
    "    return True"
   ]
  },
  {
   "cell_type": "code",
   "execution_count": null,
   "id": "51010456-4575-42a9-9937-887643edcae7",
   "metadata": {},
   "outputs": [],
   "source": [
    "# Write a code to convert a given string to uppercase or lowercase\n",
    "def convert_to_uppercase(s):\n",
    "    return s.upper()\n"
   ]
  },
  {
   "cell_type": "code",
   "execution_count": null,
   "id": "eda4855a-e777-4352-a76b-e71628f9b9e7",
   "metadata": {},
   "outputs": [],
   "source": [
    "#Write a code to count the number of words in a string\n",
    "def count_words(s):\n",
    "    # Strip leading and trailing whitespace and split the string into words\n",
    "    words = s.strip().split()\n",
    "    return len(words)"
   ]
  },
  {
   "cell_type": "code",
   "execution_count": null,
   "id": "ad82819d-3e23-4d69-8c9e-71daeea8cadd",
   "metadata": {},
   "outputs": [],
   "source": [
    "#Write a code to concatenate two strings without using the + operator\n",
    "def concatenate_strings(str1, str2):\n",
    "    return ''.join([str1, str2])\n",
    "# Example \n",
    "string1 = \"Hello, \"\n",
    "string2 = \"World!\"\n",
    "result = concatenate_strings(string1, string2)\n",
    "print(result)  \n"
   ]
  },
  {
   "cell_type": "code",
   "execution_count": null,
   "id": "52d79b3d-6012-49f2-8b09-4a3aebe3c1ce",
   "metadata": {},
   "outputs": [],
   "source": [
    "# Write a code to remove all occurrences of a specific element from a list\n",
    "def remove_occurrences(lst, element):\n",
    "    while element in lst:\n",
    "        lst.remove(element)\n",
    "\n",
    "# Example \n",
    "my_list = [1, 2, 3, 2, 4, 2, 5]\n",
    "element_to_remove = 2\n",
    "remove_occurrences(my_list, element_to_remove)\n",
    "print(my_list)  "
   ]
  },
  {
   "cell_type": "code",
   "execution_count": null,
   "id": "457fd6ed-e002-4c51-8a3f-209d1f21c359",
   "metadata": {},
   "outputs": [],
   "source": [
    "# Implement a code to find the second largest number in a given list of integers\n",
    "def second_largest(nums):\n",
    "    first, second = float('-inf'), float('-inf')\n",
    "    \n",
    "    for num in nums:\n",
    "        if num > first:\n",
    "            second = first\n",
    "            first = num\n",
    "        elif first > num > second:\n",
    "            second = num\n",
    "            \n",
    "    return second if second != float('-inf') else None\n"
   ]
  },
  {
   "cell_type": "code",
   "execution_count": null,
   "id": "49f3b590-98d6-4ed6-8edc-2f63e83d2d72",
   "metadata": {},
   "outputs": [],
   "source": [
    "# Implement a code to find and remove duplicates from a list while preserving the original order of \n",
    "element\n",
    "def remove_duplicates(lst):\n",
    "    seen = set()\n",
    "    unique_list = []\n",
    "    \n",
    "    for item in lst:\n",
    "        if item not in seen:\n",
    "            seen.add(item)\n",
    "            unique_list.append(item)\n",
    "    \n",
    "    return unique_list"
   ]
  },
  {
   "cell_type": "code",
   "execution_count": null,
   "id": "17bdf854-e4be-4842-ae55-60cc6d236ec3",
   "metadata": {},
   "outputs": [],
   "source": [
    "#Create a code to count the occurrences of each element in a list and return a dictionary with elements as \n",
    "keys and their counts as values\n",
    "def count_occurrences(input_list):\n",
    "    count_dict = {}\n",
    "    for element in input_list:\n",
    "        if element in count_dict:\n",
    "            count_dict[element] += 1\n",
    "        else:\n",
    "            count_dict[element] = 1\n",
    "    return count_dict"
   ]
  },
  {
   "cell_type": "code",
   "execution_count": null,
   "id": "86b10c20-acce-4625-9a23-4b696f3a963a",
   "metadata": {},
   "outputs": [],
   "source": [
    "# Write a code to reverse a list in-place without using any built-in reverse functions\n",
    "def reverse_list_in_place(input_list):\n",
    "    left = 0\n",
    "    right = len(input_list) - 1\n",
    "\n",
    "    while left < right:\n",
    "        # Swap elements\n",
    "        input_list[left], input_list[right] = input_list[right], input_list[left]\n",
    "        left += 1\n",
    "        right -= 1"
   ]
  },
  {
   "cell_type": "code",
   "execution_count": null,
   "id": "49cfa2e1-44cc-4d73-93a4-e91eeca2957b",
   "metadata": {},
   "outputs": [],
   "source": [
    "#Create a code to check if a given list is sorted (either in ascending or descending order) or not\n",
    "def is_sorted(input_list):\n",
    "    if not input_list:  # An empty list is considered sorted\n",
    "        return True\n",
    "\n",
    "    ascending = all(input_list[i] <= input_list[i + 1] for i in range(len(input_list) - 1))\n",
    "    descending = all(input_list[i] >= input_list[i + 1] for i in range(len(input_list) - 1))\n",
    "\n",
    "    return ascending or descending\n"
   ]
  },
  {
   "cell_type": "code",
   "execution_count": null,
   "id": "c8509f95-f094-44eb-bc27-6fb044bd326b",
   "metadata": {},
   "outputs": [],
   "source": [
    "#Write a code to merge two sorted lists into a single sorted list\n",
    "def merge_sorted_lists(list1, list2):\n",
    "    merged_list = []\n",
    "    i, j = 0, 0\n",
    "\n",
    "    # Traverse both lists and compare elements\n",
    "    while i < len(list1) and j < len(list2):\n",
    "        if list1[i] < list2[j]:\n",
    "            merged_list.append(list1[i])\n",
    "            i += 1\n",
    "        else:\n",
    "            merged_list.append(list2[j])\n",
    "            j += 1\n",
    "\n",
    "    # Append any remaining elements from list1\n",
    "    while i < len(list1):\n",
    "        merged_list.append(list1[i])\n",
    "        i += 1\n",
    "\n",
    "    # Append any remaining elements from list2\n",
    "    while j < len(list2):\n",
    "        merged_list.append(list2[j])\n",
    "        j += 1\n",
    "\n",
    "    return merged_list\n"
   ]
  },
  {
   "cell_type": "code",
   "execution_count": null,
   "id": "6894ae68-480e-493d-b253-7efd8a70fe64",
   "metadata": {},
   "outputs": [],
   "source": [
    "#Implement a code to find the intersection of two given lists\n",
    "def intersection(list1, list2):\n",
    "    # Convert both lists to sets to find common elements\n",
    "    set1 = set(list1)\n",
    "    set2 = set(list2)\n",
    "\n",
    "    # Find the intersection\n",
    "    common_elements = set1.intersection(set2)\n",
    "\n",
    "    # Convert the result back to a list (if needed)\n",
    "    return list(common_elements)\n"
   ]
  },
  {
   "cell_type": "code",
   "execution_count": null,
   "id": "63669b9b-4fe2-4b9f-b09e-0e3fc248a69e",
   "metadata": {},
   "outputs": [],
   "source": [
    "#Create a code to find the union of two lists without duplicates\n",
    "def union(list1, list2):\n",
    "    # Create a set from both lists to remove duplicates and find the union\n",
    "    union_set = set(list1) | set(list2)\n",
    "    \n",
    "    # Convert the set back to a list (if needed)\n",
    "    return list(union_set)\n"
   ]
  },
  {
   "cell_type": "code",
   "execution_count": null,
   "id": "47d3f5d5-0539-4f0f-b975-ebea8ce95cc4",
   "metadata": {},
   "outputs": [],
   "source": [
    "#Write a code to shuffle a given list randomly without using any built-in shuffle functions\n",
    "import random\n",
    "\n",
    "def shuffle_list(input_list):\n",
    "    # Create a copy of the list to shuffle\n",
    "    shuffled_list = input_list[:]\n",
    "    n = len(shuffled_list)\n",
    "\n",
    "    # Fisher-Yates shuffle algorithm\n",
    "    for i in range(n - 1, 0, -1):\n",
    "        # Generate a random index from 0 to i\n",
    "        j = random.randint(0, i)\n",
    "        # Swap the elements at indices i and j\n",
    "        shuffled_list[i], shuffled_list[j] = shuffled_list[j], shuffled_list[i]\n",
    "\n",
    "    return shuffled_list"
   ]
  },
  {
   "cell_type": "code",
   "execution_count": null,
   "id": "18855001-1f3f-46bd-9769-2bfa3cbd7db0",
   "metadata": {},
   "outputs": [],
   "source": [
    "# Write a code that takes two tuples as input and returns a new tuple containing elements that are \n",
    "common to both input tuples\n",
    "def common_elements(tuple1, tuple2):\n",
    "    # Convert tuples to sets to find common elements\n",
    "    set1 = set(tuple1)\n",
    "    set2 = set(tuple2)\n",
    "\n",
    "    # Find the intersection\n",
    "    common_set = set1.intersection(set2)\n",
    "\n",
    "    # Convert the result back to a tuple and return it\n",
    "    return tuple(common_set)\n"
   ]
  },
  {
   "cell_type": "code",
   "execution_count": null,
   "id": "c0e0ad5d-962b-4dd2-8ebc-a2313ecf7528",
   "metadata": {},
   "outputs": [],
   "source": [
    "#Create a code that prompts the user to enter two sets of integers separated by commas. Then, print the \n",
    "intersection of these two sets\n",
    "def get_set_from_input(prompt):\n",
    "    user_input = input(prompt)\n",
    "    # Convert the input string to a set of integers\n",
    "    return set(map(int, user_input.split(',')))\n",
    "\n",
    "def main():\n",
    "    # Get two sets from user input\n",
    "    set1 = get_set_from_input(\"Enter the first set of integers (separated by commas): \")\n",
    "    set2 = get_set_from_input(\"Enter the second set of integers (separated by commas): \")\n",
    "\n",
    "    # Find the intersection\n",
    "    intersection = set1.intersection(set2)\n",
    "\n",
    "    # Print the result\n",
    "    print(\"The intersection of the two sets is:\", intersection)"
   ]
  },
  {
   "cell_type": "code",
   "execution_count": null,
   "id": "5357a86e-7b26-4b10-a5c4-2fa356a89726",
   "metadata": {},
   "outputs": [],
   "source": [
    "# Write a code to concatenate two tuples. The function should take two tuples as input and return a new \n",
    "tuple containing elements from both input tuples\n",
    "def concatenate_tuples(tuple1, tuple2):\n",
    "    # Concatenate the two tuples\n",
    "    result_tuple = tuple1 + tuple2\n",
    "    return result_tuple\n"
   ]
  },
  {
   "cell_type": "code",
   "execution_count": null,
   "id": "6587932a-b8eb-4a59-b563-02551bd1b618",
   "metadata": {},
   "outputs": [],
   "source": [
    "#Develop a code that prompts the user to input two sets of strings. Then, print the elements that are \n",
    "present in the first set but not in the second set\n",
    "def get_set_from_input(prompt):\n",
    "    user_input = input(prompt)\n",
    "    # Convert the input string to a set of strings\n",
    "    return set(user_input.split(','))\n",
    "\n",
    "def main():\n",
    "    # Get two sets from user input\n",
    "    set1 = get_set_from_input(\"Enter the first set of strings (separated by commas): \")\n",
    "    set2 = get_set_from_input(\"Enter the second set of strings (separated by commas): \")\n",
    "\n",
    "    # Find elements in set1 that are not in set2\n",
    "    difference = set1 - set2\n",
    "\n",
    "    # Print the result\n",
    "    print(\"Elements in the first set but not in the second set:\", difference)\n",
    "\n",
    "if __name__ == \"__main__\":\n",
    "    main()"
   ]
  },
  {
   "cell_type": "code",
   "execution_count": null,
   "id": "d15cca93-e9c8-4821-93b9-a5600a48074e",
   "metadata": {},
   "outputs": [],
   "source": [
    "#Create a code that takes a tuple and two integers as input. The function should return a new tuple \n",
    "containing elements from the original tuple within the specified range of indices\n",
    "def slice_tuple(original_tuple, start, end):\n",
    "    # Return a new tuple containing elements from the specified range\n",
    "    return original_tuple[start:end]\n",
    "\n",
    "# Example \n",
    "my_tuple = (10, 20, 30, 40, 50, 60)\n",
    "start_index = 1\n",
    "end_index = 4\n",
    "result = slice_tuple(my_tuple, start_index, end_index)\n",
    "print(result)  "
   ]
  },
  {
   "cell_type": "code",
   "execution_count": null,
   "id": "96b8e952-686f-466d-946b-55f7d621a252",
   "metadata": {},
   "outputs": [],
   "source": [
    "# Write a code that prompts the user to input two sets of characters. Then, print the union of these two sets\n",
    "ef get_set_from_input(prompt):\n",
    "    user_input = input(prompt)\n",
    "    # Convert the input string to a set of characters\n",
    "    return set(user_input)\n",
    "\n",
    "def main():\n",
    "    # Get two sets from user input\n",
    "    set1 = get_set_from_input(\"Enter the first set of characters: \")\n",
    "    set2 = get_set_from_input(\"Enter the second set of characters: \")\n",
    "\n",
    "    # Find the union of the two sets\n",
    "    union_set = set1 | set2\n",
    "\n",
    "    # Print the result\n",
    "    print(\"The union of the two sets is:\", union_set)\n",
    "\n",
    "if __name__ == \"__main__\":\n",
    "    main()\n"
   ]
  },
  {
   "cell_type": "code",
   "execution_count": null,
   "id": "264e2ee4-1800-41d7-89ac-da2920b6fd23",
   "metadata": {},
   "outputs": [],
   "source": [
    "#Develop a code that takes a tuple of integers as input. The function should return the maximum and \n",
    "minimum values from the tuple using tuple unpacking\n",
    "def max_min_tuple(input_tuple):\n",
    "    # Use built-in functions to find max and min\n",
    "    max_value = max(input_tuple)\n",
    "    min_value = min(input_tuple)\n",
    "    \n",
    "    # Return both values as a tuple\n",
    "    return max_value, min_value"
   ]
  },
  {
   "cell_type": "code",
   "execution_count": null,
   "id": "c4e86701-efc1-4e0a-b661-7863f1d84817",
   "metadata": {},
   "outputs": [],
   "source": [
    "# Create a code that defines two sets of integers. Then, print the union, intersection, and difference of these \n",
    "two sets\n",
    "def main():\n",
    "    # Define two sets of integers\n",
    "    set1 = {1, 2, 3, 4, 5}\n",
    "    set2 = {4, 5, 6, 7, 8}\n",
    "\n",
    "    # Calculate union, intersection, and difference\n",
    "    union_set = set1 | set2\n",
    "    intersection_set = set1 & set2\n",
    "    difference_set = set1 - set2\n",
    "\n",
    "    # Print the results\n",
    "    print(\"Set 1:\", set1)\n",
    "    print(\"Set 2:\", set2)\n",
    "    print(\"Union of Set 1 and Set 2:\", union_set)\n",
    "    print(\"Intersection of Set 1 and Set 2:\", intersection_set)\n",
    "    print(\"Difference (Set 1 - Set 2):\", difference_set)"
   ]
  },
  {
   "cell_type": "code",
   "execution_count": null,
   "id": "eeb6379f-38d4-4bbb-b49e-27429cb70cb7",
   "metadata": {},
   "outputs": [],
   "source": [
    "#Write a code that takes a tuple and an element as input. The function should return the count of \n",
    "occurrences of the given element in the tuple\n",
    "def count_occurrences(input_tuple, element):\n",
    "    # Use the count method to find occurrences of the element\n",
    "    return input_tuple.count(element)\n",
    "\n",
    "# Example usage\n",
    "my_tuple = (1, 2, 3, 1, 4, 1, 5)\n",
    "element_to_count = 1\n",
    "count = count_occurrences(my_tuple, element_to_count)\n",
    "print(f\"The element {element_to_count} occurs {count} times in the tuple.\")  \n"
   ]
  },
  {
   "cell_type": "code",
   "execution_count": null,
   "id": "dc4a4f48-682d-4d67-a566-c72c8aa0b03c",
   "metadata": {},
   "outputs": [],
   "source": [
    "# Develop a code that prompts the user to input two sets of strings. Then, print the symmetric difference of \n",
    "these two sets\n",
    "def get_set_from_input(prompt):\n",
    "    user_input = input(prompt)\n",
    "    # Convert the input string to a set of strings\n",
    "    return set(user_input.split(','))\n",
    "\n",
    "def main():\n",
    "    # Get two sets from user input\n",
    "    set1 = get_set_from_input(\"Enter the first set of strings (separated by commas): \")\n",
    "    set2 = get_set_from_input(\"Enter the second set of strings (separated by commas): \")\n",
    "\n",
    "    # Find the symmetric difference of the two sets\n",
    "    symmetric_difference = set1.symmetric_difference(set2)\n",
    "\n",
    "    # Print the result\n",
    "    print(\"The symmetric difference of the two sets is:\", symmetric_difference)"
   ]
  },
  {
   "cell_type": "code",
   "execution_count": null,
   "id": "b3c8f9af-bebc-482c-a59a-638650fa6043",
   "metadata": {},
   "outputs": [],
   "source": [
    "# Write a code that takes a list of words as input and returns a dictionary where the keys are unique words \n",
    "and the values are the frequencies of those words in the input list\n",
    "def word_frequencies(words):\n",
    "    frequency_dict = {}\n",
    "    \n",
    "    for word in words:\n",
    "        if word in frequency_dict:\n",
    "            frequency_dict[word] += 1\n",
    "        else:\n",
    "            frequency_dict[word] = 1\n",
    "            \n",
    "    return frequency_dict\n"
   ]
  },
  {
   "cell_type": "code",
   "execution_count": null,
   "id": "2f7d4061-909b-4bfd-81d8-ed56e2c6c07b",
   "metadata": {},
   "outputs": [],
   "source": [
    "\n",
    "#Write a code that takes two dictionaries as input and merges them into a single dictionary. If there are \n",
    "common keys, the values should be added together\n",
    "def merge_dictionaries(dict1, dict2):\n",
    "    merged_dict = dict1.copy()  # Start with a copy of the first dictionary\n",
    "\n",
    "    for key, value in dict2.items():\n",
    "        if key in merged_dict:\n",
    "            merged_dict[key] += value  # Add the values for common keys\n",
    "        else:\n",
    "            merged_dict[key] = value  # Add the new key-value pair\n",
    "\n",
    "    return merged_dict"
   ]
  },
  {
   "cell_type": "code",
   "execution_count": null,
   "id": "276c679c-5a7e-4973-b4e1-952e524b3c94",
   "metadata": {},
   "outputs": [],
   "source": []
  },
  {
   "cell_type": "code",
   "execution_count": null,
   "id": "68cf4ce4-d4eb-4d38-b2ac-cc09fe01d140",
   "metadata": {},
   "outputs": [],
   "source": []
  }
 ],
 "metadata": {
  "kernelspec": {
   "display_name": "Python 3 (ipykernel)",
   "language": "python",
   "name": "python3"
  },
  "language_info": {
   "codemirror_mode": {
    "name": "ipython",
    "version": 3
   },
   "file_extension": ".py",
   "mimetype": "text/x-python",
   "name": "python",
   "nbconvert_exporter": "python",
   "pygments_lexer": "ipython3",
   "version": "3.12.4"
  }
 },
 "nbformat": 4,
 "nbformat_minor": 5
}
